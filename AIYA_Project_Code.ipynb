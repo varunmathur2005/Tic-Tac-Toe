{
  "nbformat": 4,
  "nbformat_minor": 0,
  "metadata": {
    "colab": {
      "provenance": [],
      "include_colab_link": true
    },
    "kernelspec": {
      "name": "python3",
      "display_name": "Python 3"
    },
    "language_info": {
      "name": "python"
    }
  },
  "cells": [
    {
      "cell_type": "markdown",
      "metadata": {
        "id": "view-in-github",
        "colab_type": "text"
      },
      "source": [
        "<a href=\"https://colab.research.google.com/github/varunmathur2005/Tic-Tac-Toe/blob/main/AIYA_Project_Code.ipynb\" target=\"_parent\"><img src=\"https://colab.research.google.com/assets/colab-badge.svg\" alt=\"Open In Colab\"/></a>"
      ]
    },
    {
      "cell_type": "code",
      "metadata": {
        "id": "ggTzjcjkc-d3"
      },
      "source": [
        "import pandas as pd\n",
        "import matplotlib.pyplot as plt\n",
        "import numpy as np\n",
        "import sklearn\n",
        "from sklearn.linear_model import LinearRegression\n",
        "from sklearn.preprocessing import scale\n",
        "import statistics\n",
        "\n"
      ],
      "execution_count": null,
      "outputs": []
    },
    {
      "cell_type": "code",
      "metadata": {
        "id": "UGbx1AssdapB"
      },
      "source": [
        "x = np.array([])\n",
        "y = np.array([])\n"
      ],
      "execution_count": null,
      "outputs": []
    },
    {
      "cell_type": "code",
      "metadata": {
        "id": "PNXJNp8PgUCh",
        "colab": {
          "base_uri": "https://localhost:8080/"
        },
        "outputId": "2542c18b-c49e-4c9a-f810-01dda0b0f617"
      },
      "source": [
        "from sklearn.model_selection import train_test_split\n",
        "y2 = np.array([[1], [2], [3], [4], [5], [6], [7], [8], [9], [10], [11], [12]])\n",
        "\n",
        "x = np.array(pd.read_csv('/content/sample_data/data-cleaned.csv', usecols=['NO2(GT)']))\n",
        "\n",
        "temp_y2 = np.array(pd.read_csv('/content/sample_data/data-cleaned.csv', usecols=['Date']))\n",
        "l3=[]\n",
        "for i in temp_y2:\n",
        "    i[0] = str(i[0].split())[5:7]\n",
        "    l3.append(i)\n",
        "\n",
        "\n",
        "temp2_y2 = np.array(l3)\n",
        "print(temp2_y2)\n",
        "_01 =[]\n",
        "_02 =[]\n",
        "_03 =[]\n",
        "_04 =[]\n",
        "_05 =[]\n",
        "_06 =[]\n",
        "_07 =[]\n",
        "_08 =[]\n",
        "_09 =[]\n",
        "_10 =[]\n",
        "_11 =[]\n",
        "_12 =[]\n",
        "\n",
        "for i in range(len(temp2_y2)):\n",
        "    if temp2_y2[i] == '01':\n",
        "        _01.append(int(x[i]))\n",
        "    elif temp2_y2[i] == '02':\n",
        "        _02.append(int(x[i]))\n",
        "    elif temp2_y2[i] == '03':\n",
        "        _03.append(int(x[i]))\n",
        "    elif temp2_y2[i] == '04':\n",
        "        _04.append(int(x[i]))\n",
        "    elif temp2_y2[i] == '05':\n",
        "        _05.append(int(x[i]))\n",
        "    elif temp2_y2[i] == '06':\n",
        "        _06.append(int(x[i]))\n",
        "    elif temp2_y2[i] == '07':\n",
        "        _07.append(int(x[i]))\n",
        "    elif temp2_y2[i] == '08':\n",
        "        _08.append(int(x[i]))\n",
        "    elif temp2_y2[i] == '09':\n",
        "        _09.append(int(x[i]))\n",
        "    elif temp2_y2[i] == '10':\n",
        "        _10.append(int(x[i]))\n",
        "    elif temp2_y2[i] == '11':\n",
        "        _11.append(int(x[i]))\n",
        "    elif temp2_y2[i] == '12':\n",
        "        _12.append(int(x[i]))\n",
        "\n",
        "\n",
        "\n",
        "l4 = [[statistics.mean(_01)], [statistics.mean(_02)], [statistics.mean(_03)], [statistics.mean(_04)], [statistics.mean(_05)], [statistics.mean(_06)], [statistics.mean(_07)], [statistics.mean(_08)],[statistics.mean(_09)], [statistics.mean(_10)], [statistics.mean(_11)], [statistics.mean(_12)]]\n",
        "x = np.array(l4)\n",
        "\n",
        "x, y2 = y2, x\n",
        "x_train, x_test, y_train, y_test = train_test_split(x, y2, test_size=0.33, random_state=42)"
      ],
      "execution_count": null,
      "outputs": [
        {
          "output_type": "stream",
          "name": "stdout",
          "text": [
            "[['03']\n",
            " ['03']\n",
            " ['03']\n",
            " ...\n",
            " ['04']\n",
            " ['04']\n",
            " ['04']]\n"
          ]
        }
      ]
    },
    {
      "cell_type": "code",
      "metadata": {
        "colab": {
          "base_uri": "https://localhost:8080/",
          "height": 981
        },
        "id": "cV01VDQ4gUMc",
        "outputId": "f89c4294-f522-4006-fee2-152f35bef6ee"
      },
      "source": [
        "linearregression2 = LinearRegression()\n",
        "\n",
        "x_train.reshape(1,-1)\n",
        "\n",
        "linearregression2.fit(x_train, y_train)\n",
        "y2_pred = linearregression2.predict(x_train)\n",
        "plt.scatter(x_train, y_train)\n",
        "plt.scatter(x_test, y_test)\n",
        "plt.plot(x_train, y2_pred, color='black')\n",
        "plt.xlabel('Month of the Year -->')\n",
        "plt.ylabel('Mean of Readings taken')\n",
        "\n",
        "\n",
        "#Decision Tree regression\n",
        "from sklearn.model_selection import cross_val_score\n",
        "from sklearn.tree import DecisionTreeRegressor\n",
        "regressor = DecisionTreeRegressor(random_state=0)\n",
        "cross_val_score(regressor, x_train, y_train, cv=5)\n",
        "\n",
        "\n",
        "\n",
        "regr_2 = DecisionTreeRegressor(max_depth=5)\n",
        "\n",
        "regr_2.fit(x_train, y_train)\n",
        "\n",
        "\n",
        "\n",
        "y_2 = regr_2.predict(x_test)\n",
        "\n",
        "\n",
        "plt.figure()\n",
        "plt.scatter(x_train, y_train, s=20, edgecolor=\"black\", c=\"darkorange\", label=\"training data\")\n",
        "plt.scatter(x_test, y_test, s=20, edgecolor='black', label=\"test data\")\n",
        "\n",
        "plt.plot(x_test, y_2, color=\"yellowgreen\", label=\"max_depth=5\", linewidth=2)\n",
        "plt.xlabel(\"data\")\n",
        "plt.ylabel(\"target\")\n",
        "plt.title(\"Decision Tree Regression\")\n",
        "plt.legend()\n",
        "plt.show()\n",
        "\n",
        "\n",
        "\n",
        "# Random forest Regression\n",
        "from sklearn.ensemble import RandomForestRegressor\n",
        "regr = RandomForestRegressor(max_depth=5, random_state=0)\n",
        "regr.fit(x, y2)\n",
        "plt.scatter(x_train, y_train, s=20, edgecolor=\"black\", c=\"darkorange\", label=\"training data\")\n",
        "plt.scatter(x_test, y_test, s=20, edgecolor='black', label=\"test data\")\n",
        "plt.plot(regr.predict(x_test))\n"
      ],
      "execution_count": null,
      "outputs": [
        {
          "output_type": "stream",
          "name": "stdout",
          "text": [
            "\n",
            "\n",
            "\n"
          ]
        },
        {
          "output_type": "stream",
          "name": "stderr",
          "text": [
            "/usr/local/lib/python3.7/dist-packages/sklearn/metrics/_regression.py:582: UndefinedMetricWarning: R^2 score is not well-defined with less than two samples.\n",
            "  warnings.warn(msg, UndefinedMetricWarning)\n",
            "/usr/local/lib/python3.7/dist-packages/sklearn/metrics/_regression.py:582: UndefinedMetricWarning: R^2 score is not well-defined with less than two samples.\n",
            "  warnings.warn(msg, UndefinedMetricWarning)\n"
          ]
        },
        {
          "output_type": "display_data",
          "data": {
            "image/png": "[encoded data removed]",
            "text/plain": [
              "<Figure size 432x288 with 1 Axes>"
            ]
          },
          "metadata": {
            "needs_background": "light"
          }
        },
        {
          "output_type": "display_data",
          "data": {
            "image/png": "[encoded data removed]",
            "text/plain": [
              "<Figure size 432x288 with 1 Axes>"
            ]
          },
          "metadata": {
            "needs_background": "light"
          }
        },
        {
          "output_type": "stream",
          "name": "stderr",
          "text": [
            "/usr/local/lib/python3.7/dist-packages/ipykernel_launcher.py:49: DataConversionWarning: A column-vector y was passed when a 1d array was expected. Please change the shape of y to (n_samples,), for example using ravel().\n"
          ]
        },
        {
          "output_type": "execute_result",
          "data": {
            "text/plain": [
              "[<matplotlib.lines.Line2D at 0x7fba1f91ffd0>]"
            ]
          },
          "metadata": {},
          "execution_count": 44
        },
        {
          "output_type": "display_data",
          "data": {
            "image/png": "[encoded data removed]",
            "text/plain": [
              "<Figure size 432x288 with 1 Axes>"
            ]
          },
          "metadata": {
            "needs_background": "light"
          }
        }
      ]
    },
    {
      "cell_type": "code",
      "metadata": {
        "id": "2KyfxTrbUbBu",
        "colab": {
          "base_uri": "https://localhost:8080/"
        },
        "outputId": "b0c7bc81-8ba6-4f5c-f21b-bce666890775"
      },
      "source": [
        "from sklearn.metrics import roc_auc_score , classification_report, mean_squared_error, r2_score\n",
        "print('Linear Regression')\n",
        "print('R-squared:', linearregression2.score(x_test, y_test))\n",
        "scores = cross_val_score(linearregression2, x, y2)\n",
        "print(\"Average of scores: \", statistics.mean(scores))\n",
        "print(\"Cross validation scores: \", scores)\n",
        "\n",
        "\n",
        "print('\\n\\n')\n",
        "print('Decision Tree Regression 2 (depth = 5)')\n",
        "print('R-squared:', regr_2.score(x_test, y_test))\n",
        "scores = cross_val_score(regr_2, x, y2)\n",
        "print(\"Average of scores: \", statistics.mean(scores))\n",
        "print(\"Cross validation scores: \", scores)\n",
        "\n",
        "\n",
        "\n",
        "print('\\n\\n')\n",
        "print('Random Forest Regression')\n",
        "print('R-squared:', regr.score(x_test, y_test))\n",
        "scores = cross_val_score(regr, x, y2)\n",
        "print(\"Average of scores: \", statistics.mean(scores))\n",
        "print(\"Cross validation scores: \", scores)"
      ],
      "execution_count": null,
      "outputs": [
        {
          "output_type": "stream",
          "name": "stdout",
          "text": [
            "Linear Regression\n",
            "R-squared: 0.6195095133782325\n",
            "Average of scores:  -45.75736224173342\n",
            "Cross validation scores:  [ -11.51254545 -134.99219367   -1.2056773     0.52933338  -81.60572817]\n",
            "\n",
            "\n",
            "\n",
            "Decision Tree Regression 2 (depth = 5)\n",
            "R-squared: -1.423432100905118\n",
            "Average of scores:  -46.74236738411391\n",
            "Cross validation scores:  [  -8.74404694 -203.29537495   -1.05748038   -7.29054339  -13.32439126]\n",
            "\n",
            "\n",
            "\n",
            "Random Forest Regression\n",
            "R-squared: 0.7948528209714896\n"
          ]
        },
        {
          "output_type": "stream",
          "name": "stderr",
          "text": [
            "/usr/local/lib/python3.7/dist-packages/sklearn/model_selection/_validation.py:515: DataConversionWarning: A column-vector y was passed when a 1d array was expected. Please change the shape of y to (n_samples,), for example using ravel().\n",
            "  estimator.fit(X_train, y_train, **fit_params)\n",
            "/usr/local/lib/python3.7/dist-packages/sklearn/model_selection/_validation.py:515: DataConversionWarning: A column-vector y was passed when a 1d array was expected. Please change the shape of y to (n_samples,), for example using ravel().\n",
            "  estimator.fit(X_train, y_train, **fit_params)\n",
            "/usr/local/lib/python3.7/dist-packages/sklearn/model_selection/_validation.py:515: DataConversionWarning: A column-vector y was passed when a 1d array was expected. Please change the shape of y to (n_samples,), for example using ravel().\n",
            "  estimator.fit(X_train, y_train, **fit_params)\n",
            "/usr/local/lib/python3.7/dist-packages/sklearn/model_selection/_validation.py:515: DataConversionWarning: A column-vector y was passed when a 1d array was expected. Please change the shape of y to (n_samples,), for example using ravel().\n",
            "  estimator.fit(X_train, y_train, **fit_params)\n"
          ]
        },
        {
          "output_type": "stream",
          "name": "stdout",
          "text": [
            "Average of scores:  -44.347945619267094\n",
            "Cross validation scores:  [  -9.37308024 -201.2812479    -0.66392996   -2.44352827   -7.97794172]\n"
          ]
        },
        {
          "output_type": "stream",
          "name": "stderr",
          "text": [
            "/usr/local/lib/python3.7/dist-packages/sklearn/model_selection/_validation.py:515: DataConversionWarning: A column-vector y was passed when a 1d array was expected. Please change the shape of y to (n_samples,), for example using ravel().\n",
            "  estimator.fit(X_train, y_train, **fit_params)\n"
          ]
        }
      ]
    }
  ]
}